{
 "cells": [
  {
   "cell_type": "markdown",
   "id": "6ba48d36-ea96-46fa-ac8e-91a83357f53b",
   "metadata": {},
   "source": [
    "# Titanic Dataset Basic Analysis: Descriptive Statistics "
   ]
  },
  {
   "cell_type": "code",
   "execution_count": 4,
   "id": "88fcddf9-5de4-4f14-b2e2-8c4f9cb3d8b3",
   "metadata": {},
   "outputs": [],
   "source": [
    "import math\n",
    "import numpy as np\n",
    "import pandas as pd\n",
    "import scipy.stats as stats\n",
    "import matplotlib.pyplot as plt\n",
    "import seaborn as sns\n",
    "from collections import defaultdict\n",
    "from scipy.stats import pearsonr"
   ]
  },
  {
   "cell_type": "code",
   "execution_count": 5,
   "id": "222c3c90-99b7-49ea-8e3c-e86aa7a20d37",
   "metadata": {},
   "outputs": [],
   "source": [
    "titanic = pd.read_csv('titanic.csv') # Read the dataset"
   ]
  },
  {
   "cell_type": "code",
   "execution_count": 6,
   "id": "732d7f46-fd0d-43be-beb9-6a32459d0de4",
   "metadata": {},
   "outputs": [
    {
     "data": {
      "text/html": [
       "<div>\n",
       "<style scoped>\n",
       "    .dataframe tbody tr th:only-of-type {\n",
       "        vertical-align: middle;\n",
       "    }\n",
       "\n",
       "    .dataframe tbody tr th {\n",
       "        vertical-align: top;\n",
       "    }\n",
       "\n",
       "    .dataframe thead th {\n",
       "        text-align: right;\n",
       "    }\n",
       "</style>\n",
       "<table border=\"1\" class=\"dataframe\">\n",
       "  <thead>\n",
       "    <tr style=\"text-align: right;\">\n",
       "      <th></th>\n",
       "      <th>PassengerId</th>\n",
       "      <th>Survived</th>\n",
       "      <th>Pclass</th>\n",
       "      <th>Name</th>\n",
       "      <th>Sex</th>\n",
       "      <th>Age</th>\n",
       "      <th>SibSp</th>\n",
       "      <th>Parch</th>\n",
       "      <th>Ticket</th>\n",
       "      <th>Fare</th>\n",
       "      <th>Cabin</th>\n",
       "      <th>Embarked</th>\n",
       "    </tr>\n",
       "  </thead>\n",
       "  <tbody>\n",
       "    <tr>\n",
       "      <th>0</th>\n",
       "      <td>1</td>\n",
       "      <td>0</td>\n",
       "      <td>3</td>\n",
       "      <td>Braund, Mr. Owen Harris</td>\n",
       "      <td>male</td>\n",
       "      <td>22.0</td>\n",
       "      <td>1</td>\n",
       "      <td>0</td>\n",
       "      <td>A/5 21171</td>\n",
       "      <td>7.2500</td>\n",
       "      <td>NaN</td>\n",
       "      <td>S</td>\n",
       "    </tr>\n",
       "    <tr>\n",
       "      <th>1</th>\n",
       "      <td>2</td>\n",
       "      <td>1</td>\n",
       "      <td>1</td>\n",
       "      <td>Cumings, Mrs. John Bradley (Florence Briggs Th...</td>\n",
       "      <td>female</td>\n",
       "      <td>38.0</td>\n",
       "      <td>1</td>\n",
       "      <td>0</td>\n",
       "      <td>PC 17599</td>\n",
       "      <td>71.2833</td>\n",
       "      <td>C85</td>\n",
       "      <td>C</td>\n",
       "    </tr>\n",
       "    <tr>\n",
       "      <th>2</th>\n",
       "      <td>3</td>\n",
       "      <td>1</td>\n",
       "      <td>3</td>\n",
       "      <td>Heikkinen, Miss. Laina</td>\n",
       "      <td>female</td>\n",
       "      <td>26.0</td>\n",
       "      <td>0</td>\n",
       "      <td>0</td>\n",
       "      <td>STON/O2. 3101282</td>\n",
       "      <td>7.9250</td>\n",
       "      <td>NaN</td>\n",
       "      <td>S</td>\n",
       "    </tr>\n",
       "    <tr>\n",
       "      <th>3</th>\n",
       "      <td>4</td>\n",
       "      <td>1</td>\n",
       "      <td>1</td>\n",
       "      <td>Futrelle, Mrs. Jacques Heath (Lily May Peel)</td>\n",
       "      <td>female</td>\n",
       "      <td>35.0</td>\n",
       "      <td>1</td>\n",
       "      <td>0</td>\n",
       "      <td>113803</td>\n",
       "      <td>53.1000</td>\n",
       "      <td>C123</td>\n",
       "      <td>S</td>\n",
       "    </tr>\n",
       "    <tr>\n",
       "      <th>4</th>\n",
       "      <td>5</td>\n",
       "      <td>0</td>\n",
       "      <td>3</td>\n",
       "      <td>Allen, Mr. William Henry</td>\n",
       "      <td>male</td>\n",
       "      <td>35.0</td>\n",
       "      <td>0</td>\n",
       "      <td>0</td>\n",
       "      <td>373450</td>\n",
       "      <td>8.0500</td>\n",
       "      <td>NaN</td>\n",
       "      <td>S</td>\n",
       "    </tr>\n",
       "  </tbody>\n",
       "</table>\n",
       "</div>"
      ],
      "text/plain": [
       "   PassengerId  Survived  Pclass  \\\n",
       "0            1         0       3   \n",
       "1            2         1       1   \n",
       "2            3         1       3   \n",
       "3            4         1       1   \n",
       "4            5         0       3   \n",
       "\n",
       "                                                Name     Sex   Age  SibSp  \\\n",
       "0                            Braund, Mr. Owen Harris    male  22.0      1   \n",
       "1  Cumings, Mrs. John Bradley (Florence Briggs Th...  female  38.0      1   \n",
       "2                             Heikkinen, Miss. Laina  female  26.0      0   \n",
       "3       Futrelle, Mrs. Jacques Heath (Lily May Peel)  female  35.0      1   \n",
       "4                           Allen, Mr. William Henry    male  35.0      0   \n",
       "\n",
       "   Parch            Ticket     Fare Cabin Embarked  \n",
       "0      0         A/5 21171   7.2500   NaN        S  \n",
       "1      0          PC 17599  71.2833   C85        C  \n",
       "2      0  STON/O2. 3101282   7.9250   NaN        S  \n",
       "3      0            113803  53.1000  C123        S  \n",
       "4      0            373450   8.0500   NaN        S  "
      ]
     },
     "execution_count": 6,
     "metadata": {},
     "output_type": "execute_result"
    }
   ],
   "source": [
    "titanic.head() # Returns the first rows of dataset"
   ]
  },
  {
   "cell_type": "code",
   "execution_count": 9,
   "id": "84641a70-9097-4b30-93e9-d88bbab02a4e",
   "metadata": {},
   "outputs": [
    {
     "name": "stdout",
     "output_type": "stream",
     "text": [
      "<class 'pandas.core.frame.DataFrame'>\n",
      "RangeIndex: 891 entries, 0 to 890\n",
      "Data columns (total 12 columns):\n",
      " #   Column       Non-Null Count  Dtype  \n",
      "---  ------       --------------  -----  \n",
      " 0   PassengerId  891 non-null    int64  \n",
      " 1   Survived     891 non-null    int64  \n",
      " 2   Pclass       891 non-null    int64  \n",
      " 3   Name         891 non-null    object \n",
      " 4   Sex          891 non-null    object \n",
      " 5   Age          714 non-null    float64\n",
      " 6   SibSp        891 non-null    int64  \n",
      " 7   Parch        891 non-null    int64  \n",
      " 8   Ticket       891 non-null    object \n",
      " 9   Fare         891 non-null    float64\n",
      " 10  Cabin        204 non-null    object \n",
      " 11  Embarked     889 non-null    object \n",
      "dtypes: float64(2), int64(5), object(5)\n",
      "memory usage: 83.7+ KB\n"
     ]
    }
   ],
   "source": [
    "titanic.info()  # Returns info of dataset, for example we can see that 'cabin' and 'Age' have some null values"
   ]
  },
  {
   "cell_type": "code",
   "execution_count": 8,
   "id": "7222b22e-4c0c-4ae3-b61e-3b0e225959d5",
   "metadata": {},
   "outputs": [
    {
     "data": {
      "text/html": [
       "<div>\n",
       "<style scoped>\n",
       "    .dataframe tbody tr th:only-of-type {\n",
       "        vertical-align: middle;\n",
       "    }\n",
       "\n",
       "    .dataframe tbody tr th {\n",
       "        vertical-align: top;\n",
       "    }\n",
       "\n",
       "    .dataframe thead th {\n",
       "        text-align: right;\n",
       "    }\n",
       "</style>\n",
       "<table border=\"1\" class=\"dataframe\">\n",
       "  <thead>\n",
       "    <tr style=\"text-align: right;\">\n",
       "      <th></th>\n",
       "      <th>PassengerId</th>\n",
       "      <th>Survived</th>\n",
       "      <th>Pclass</th>\n",
       "      <th>Age</th>\n",
       "      <th>SibSp</th>\n",
       "      <th>Parch</th>\n",
       "      <th>Fare</th>\n",
       "    </tr>\n",
       "  </thead>\n",
       "  <tbody>\n",
       "    <tr>\n",
       "      <th>count</th>\n",
       "      <td>891.000000</td>\n",
       "      <td>891.000000</td>\n",
       "      <td>891.000000</td>\n",
       "      <td>714.000000</td>\n",
       "      <td>891.000000</td>\n",
       "      <td>891.000000</td>\n",
       "      <td>891.000000</td>\n",
       "    </tr>\n",
       "    <tr>\n",
       "      <th>mean</th>\n",
       "      <td>446.000000</td>\n",
       "      <td>0.383838</td>\n",
       "      <td>2.308642</td>\n",
       "      <td>29.699118</td>\n",
       "      <td>0.523008</td>\n",
       "      <td>0.381594</td>\n",
       "      <td>32.204208</td>\n",
       "    </tr>\n",
       "    <tr>\n",
       "      <th>std</th>\n",
       "      <td>257.353842</td>\n",
       "      <td>0.486592</td>\n",
       "      <td>0.836071</td>\n",
       "      <td>14.526497</td>\n",
       "      <td>1.102743</td>\n",
       "      <td>0.806057</td>\n",
       "      <td>49.693429</td>\n",
       "    </tr>\n",
       "    <tr>\n",
       "      <th>min</th>\n",
       "      <td>1.000000</td>\n",
       "      <td>0.000000</td>\n",
       "      <td>1.000000</td>\n",
       "      <td>0.420000</td>\n",
       "      <td>0.000000</td>\n",
       "      <td>0.000000</td>\n",
       "      <td>0.000000</td>\n",
       "    </tr>\n",
       "    <tr>\n",
       "      <th>25%</th>\n",
       "      <td>223.500000</td>\n",
       "      <td>0.000000</td>\n",
       "      <td>2.000000</td>\n",
       "      <td>20.125000</td>\n",
       "      <td>0.000000</td>\n",
       "      <td>0.000000</td>\n",
       "      <td>7.910400</td>\n",
       "    </tr>\n",
       "    <tr>\n",
       "      <th>50%</th>\n",
       "      <td>446.000000</td>\n",
       "      <td>0.000000</td>\n",
       "      <td>3.000000</td>\n",
       "      <td>28.000000</td>\n",
       "      <td>0.000000</td>\n",
       "      <td>0.000000</td>\n",
       "      <td>14.454200</td>\n",
       "    </tr>\n",
       "    <tr>\n",
       "      <th>75%</th>\n",
       "      <td>668.500000</td>\n",
       "      <td>1.000000</td>\n",
       "      <td>3.000000</td>\n",
       "      <td>38.000000</td>\n",
       "      <td>1.000000</td>\n",
       "      <td>0.000000</td>\n",
       "      <td>31.000000</td>\n",
       "    </tr>\n",
       "    <tr>\n",
       "      <th>max</th>\n",
       "      <td>891.000000</td>\n",
       "      <td>1.000000</td>\n",
       "      <td>3.000000</td>\n",
       "      <td>80.000000</td>\n",
       "      <td>8.000000</td>\n",
       "      <td>6.000000</td>\n",
       "      <td>512.329200</td>\n",
       "    </tr>\n",
       "  </tbody>\n",
       "</table>\n",
       "</div>"
      ],
      "text/plain": [
       "       PassengerId    Survived      Pclass         Age       SibSp  \\\n",
       "count   891.000000  891.000000  891.000000  714.000000  891.000000   \n",
       "mean    446.000000    0.383838    2.308642   29.699118    0.523008   \n",
       "std     257.353842    0.486592    0.836071   14.526497    1.102743   \n",
       "min       1.000000    0.000000    1.000000    0.420000    0.000000   \n",
       "25%     223.500000    0.000000    2.000000   20.125000    0.000000   \n",
       "50%     446.000000    0.000000    3.000000   28.000000    0.000000   \n",
       "75%     668.500000    1.000000    3.000000   38.000000    1.000000   \n",
       "max     891.000000    1.000000    3.000000   80.000000    8.000000   \n",
       "\n",
       "            Parch        Fare  \n",
       "count  891.000000  891.000000  \n",
       "mean     0.381594   32.204208  \n",
       "std      0.806057   49.693429  \n",
       "min      0.000000    0.000000  \n",
       "25%      0.000000    7.910400  \n",
       "50%      0.000000   14.454200  \n",
       "75%      0.000000   31.000000  \n",
       "max      6.000000  512.329200  "
      ]
     },
     "execution_count": 8,
     "metadata": {},
     "output_type": "execute_result"
    }
   ],
   "source": [
    "titanic.describe() # with describe we can have some descriptive statistics"
   ]
  },
  {
   "cell_type": "markdown",
   "id": "8e47d64a-d3f5-4c1b-8a16-e56adf9e47c8",
   "metadata": {},
   "source": [
    "## Descriptive statistics (focusing on Age)"
   ]
  },
  {
   "cell_type": "code",
   "execution_count": 10,
   "id": "c8156bae-acb5-4454-9ec1-12b86f41cb76",
   "metadata": {},
   "outputs": [
    {
     "data": {
      "text/plain": [
       "0      22.0\n",
       "1      38.0\n",
       "2      26.0\n",
       "3      35.0\n",
       "4      35.0\n",
       "       ... \n",
       "886    27.0\n",
       "887    19.0\n",
       "888     NaN\n",
       "889    26.0\n",
       "890    32.0\n",
       "Name: Age, Length: 891, dtype: float64"
      ]
     },
     "execution_count": 10,
     "metadata": {},
     "output_type": "execute_result"
    }
   ],
   "source": [
    "titanic['Age'] # Accessing the values of the Age column"
   ]
  },
  {
   "cell_type": "markdown",
   "id": "cb532cb3-3cb8-437a-a0df-21dd77ff54ce",
   "metadata": {},
   "source": [
    "### Mean"
   ]
  },
  {
   "cell_type": "markdown",
   "id": "11ea432c",
   "metadata": {},
   "source": [
    "Given a variable $A=\\{a_1,a_2,\\ldots,a_n\\}$ $\\mu=(a_1+a_2+\\ldots+a_n)/n$"
   ]
  },
  {
   "cell_type": "code",
   "execution_count": 11,
   "id": "27d8b823-634a-447d-894b-5a425494c1e7",
   "metadata": {},
   "outputs": [
    {
     "data": {
      "text/plain": [
       "29.69911764705882"
      ]
     },
     "execution_count": 11,
     "metadata": {},
     "output_type": "execute_result"
    }
   ],
   "source": [
    "titanic['Age'].mean() # It is a mathematical value, not taken directly from the series"
   ]
  },
  {
   "cell_type": "markdown",
   "id": "5bbc7bee-2e80-4b9b-a8cd-515e48f78159",
   "metadata": {},
   "source": [
    "### Median "
   ]
  },
  {
   "cell_type": "markdown",
   "id": "731f930a",
   "metadata": {},
   "source": [
    "Given a variable $A=\\{a_1,a_2,\\ldots,a_n\\}$ and assuming an order $a_i<a_{i+1}$ $M = a_{n/2}$"
   ]
  },
  {
   "cell_type": "code",
   "execution_count": 12,
   "id": "33d7dda7-a13f-47bb-9e56-9b95892d92d8",
   "metadata": {},
   "outputs": [
    {
     "data": {
      "text/plain": [
       "28.0"
      ]
     },
     "execution_count": 12,
     "metadata": {},
     "output_type": "execute_result"
    }
   ],
   "source": [
    "titanic['Age'].median() # Value that cuts the population in two. Returns a real value taken directly from the empirical distribution"
   ]
  },
  {
   "cell_type": "markdown",
   "id": "391f80b2-cf0d-4185-b97d-80a299c0f262",
   "metadata": {},
   "source": [
    "### Mode"
   ]
  },
  {
   "cell_type": "code",
   "execution_count": 13,
   "id": "d7e3a127-15db-4f52-b3e7-ec695f1b4d47",
   "metadata": {},
   "outputs": [
    {
     "data": {
      "text/plain": [
       "0    24.0\n",
       "Name: Age, dtype: float64"
      ]
     },
     "execution_count": 13,
     "metadata": {},
     "output_type": "execute_result"
    }
   ],
   "source": [
    "titanic['Age'].mode() # Most frequent value of the series"
   ]
  },
  {
   "cell_type": "markdown",
   "id": "3a602719-7b45-4314-bbfd-7eeb97d1a97d",
   "metadata": {},
   "source": [
    "### Variance and Standard Deviation"
   ]
  },
  {
   "cell_type": "markdown",
   "id": "ef7a3869-f512-4420-a4f4-85341af9f02e",
   "metadata": {},
   "source": [
    "Given a variable $A=\\{a_1,a_2,\\ldots,a_n\\}$ \n",
    "\n",
    "Variance  $v = \\frac{\\sum_{i=1}^{n}{(a_i-\\mu)^2}}{n}$\n",
    "\n",
    "Standard Deviation = $\\sqrt{v}$\n"
   ]
  },
  {
   "cell_type": "code",
   "execution_count": null,
   "id": "cb5b275a",
   "metadata": {},
   "outputs": [],
   "source": [
    "# Variance = How much the given value deviates from the mean\n",
    "# Standard Deviation = The square root of the variance"
   ]
  },
  {
   "cell_type": "markdown",
   "id": "db876cae-1d1d-44c3-a362-794dc2a9cffc",
   "metadata": {},
   "source": [
    "### Minimum and Maximum\n",
    "Represent the range of the variable"
   ]
  },
  {
   "cell_type": "code",
   "execution_count": 22,
   "id": "79fa4bc1-d92c-467c-94fe-a15b35b22664",
   "metadata": {},
   "outputs": [
    {
     "data": {
      "text/plain": [
       "80.0"
      ]
     },
     "execution_count": 22,
     "metadata": {},
     "output_type": "execute_result"
    }
   ],
   "source": [
    "titanic['Age'].max()"
   ]
  },
  {
   "cell_type": "code",
   "execution_count": 23,
   "id": "efacd3fc-2af0-4958-8e4f-d777a099f895",
   "metadata": {},
   "outputs": [
    {
     "data": {
      "text/plain": [
       "0.42"
      ]
     },
     "execution_count": 23,
     "metadata": {},
     "output_type": "execute_result"
    }
   ],
   "source": [
    "titanic['Age'].min()"
   ]
  },
  {
   "cell_type": "markdown",
   "id": "e0b5fb43",
   "metadata": {},
   "source": [
    "### Percentile\n",
    "Given a variable $A=\\{a_1,a_2,\\ldots,a_n\\}$ and assuming and order $a_i<a_{i+1}$\n",
    "The n-th percentile is the $a_i$ value that separates the n-th percentage of the population from the rest of the data"
   ]
  },
  {
   "cell_type": "markdown",
   "id": "54584655-7c15-4d40-a34b-bdf55ffa4be7",
   "metadata": {},
   "source": [
    "## Some reasoning about variables"
   ]
  },
  {
   "cell_type": "code",
   "execution_count": 14,
   "id": "e67174f4-5b8f-43eb-a7dd-c40f27ee86d9",
   "metadata": {},
   "outputs": [
    {
     "data": {
      "text/plain": [
       "array([0, 1], dtype=int64)"
      ]
     },
     "execution_count": 14,
     "metadata": {},
     "output_type": "execute_result"
    }
   ],
   "source": [
    "titanic['Survived'].unique() # What kind of variable we have? \n",
    "# With unique we can see the possible values"
   ]
  },
  {
   "cell_type": "code",
   "execution_count": 31,
   "id": "e8d8325e-4616-4697-ad96-5daa3e73a1c1",
   "metadata": {},
   "outputs": [
    {
     "data": {
      "text/plain": [
       "array([3, 1, 2], dtype=int64)"
      ]
     },
     "execution_count": 31,
     "metadata": {},
     "output_type": "execute_result"
    }
   ],
   "source": [
    "titanic['Pclass'].unique()"
   ]
  },
  {
   "cell_type": "code",
   "execution_count": 26,
   "id": "19a98b8d-9b92-4770-aa23-e9aca9dc768f",
   "metadata": {},
   "outputs": [
    {
     "data": {
      "text/plain": [
       "array([22.  , 38.  , 26.  , 35.  ,   nan, 54.  ,  2.  , 27.  , 14.  ,\n",
       "        4.  , 58.  , 20.  , 39.  , 55.  , 31.  , 34.  , 15.  , 28.  ,\n",
       "        8.  , 19.  , 40.  , 66.  , 42.  , 21.  , 18.  ,  3.  ,  7.  ,\n",
       "       49.  , 29.  , 65.  , 28.5 ,  5.  , 11.  , 45.  , 17.  , 32.  ,\n",
       "       16.  , 25.  ,  0.83, 30.  , 33.  , 23.  , 24.  , 46.  , 59.  ,\n",
       "       71.  , 37.  , 47.  , 14.5 , 70.5 , 32.5 , 12.  ,  9.  , 36.5 ,\n",
       "       51.  , 55.5 , 40.5 , 44.  ,  1.  , 61.  , 56.  , 50.  , 36.  ,\n",
       "       45.5 , 20.5 , 62.  , 41.  , 52.  , 63.  , 23.5 ,  0.92, 43.  ,\n",
       "       60.  , 10.  , 64.  , 13.  , 48.  ,  0.75, 53.  , 57.  , 80.  ,\n",
       "       70.  , 24.5 ,  6.  ,  0.67, 30.5 ,  0.42, 34.5 , 74.  ])"
      ]
     },
     "execution_count": 26,
     "metadata": {},
     "output_type": "execute_result"
    }
   ],
   "source": [
    "titanic['Age'].unique()"
   ]
  },
  {
   "cell_type": "code",
   "execution_count": 27,
   "id": "83827a5a-74e1-48b0-89ae-857a7783e23d",
   "metadata": {},
   "outputs": [
    {
     "data": {
      "text/plain": [
       "Survived\n",
       "0    549\n",
       "1    342\n",
       "Name: count, dtype: int64"
      ]
     },
     "execution_count": 27,
     "metadata": {},
     "output_type": "execute_result"
    }
   ],
   "source": [
    "titanic['Survived'].value_counts() # value_counts()\n",
    "# In addition to the possible values of the variable, it gives us a count of how many of those values there are for that value"
   ]
  },
  {
   "cell_type": "code",
   "execution_count": 29,
   "id": "91f03a0e-48f8-4ef9-a940-87d978bcec03",
   "metadata": {},
   "outputs": [
    {
     "data": {
      "text/plain": [
       "Pclass\n",
       "3    491\n",
       "1    216\n",
       "2    184\n",
       "Name: count, dtype: int64"
      ]
     },
     "execution_count": 29,
     "metadata": {},
     "output_type": "execute_result"
    }
   ],
   "source": [
    "titanic['Pclass'].value_counts() # People in third class were the majority"
   ]
  },
  {
   "cell_type": "code",
   "execution_count": 30,
   "id": "92b357f6-ddd9-414f-a0ec-126b89cf83a2",
   "metadata": {},
   "outputs": [
    {
     "data": {
      "text/plain": [
       "Age\n",
       "24.00    30\n",
       "22.00    27\n",
       "18.00    26\n",
       "19.00    25\n",
       "28.00    25\n",
       "         ..\n",
       "36.50     1\n",
       "55.50     1\n",
       "0.92      1\n",
       "23.50     1\n",
       "74.00     1\n",
       "Name: count, Length: 88, dtype: int64"
      ]
     },
     "execution_count": 30,
     "metadata": {},
     "output_type": "execute_result"
    }
   ],
   "source": [
    "titanic['Age'].value_counts() # Possible values of age and how much people for that age"
   ]
  },
  {
   "cell_type": "markdown",
   "id": "c9f237ab-3c8c-46ac-a9ac-73f8ec615fab",
   "metadata": {},
   "source": [
    "## Introduction to visualization"
   ]
  },
  {
   "cell_type": "code",
   "execution_count": 32,
   "id": "2bed8f83-c60c-49fa-b800-c864f3d3812f",
   "metadata": {},
   "outputs": [
    {
     "data": {
      "text/plain": [
       "<Axes: >"
      ]
     },
     "execution_count": 32,
     "metadata": {},
     "output_type": "execute_result"
    },
    {
     "data": {
      "image/png": "[encoded data removed]",
      "text/plain": [
       "<Figure size 640x480 with 1 Axes>"
      ]
     },
     "metadata": {},
     "output_type": "display_data"
    }
   ],
   "source": [
    "# Histogram of values. We pass the intervals into which to divide the population, the bins (i.e. how many intervals)\n",
    "titanic['Age'].hist(bins = 80)"
   ]
  },
  {
   "cell_type": "code",
   "execution_count": 34,
   "id": "b0c87d45-4eb0-4f36-af03-8cc50aa00618",
   "metadata": {},
   "outputs": [
    {
     "data": {
      "text/plain": [
       "<Axes: >"
      ]
     },
     "execution_count": 34,
     "metadata": {},
     "output_type": "execute_result"
    },
    {
     "data": {
      "image/png": "[encoded data removed]",
      "text/plain": [
       "<Figure size 640x480 with 1 Axes>"
      ]
     },
     "metadata": {},
     "output_type": "display_data"
    }
   ],
   "source": [
    "# When there are few values there is no need to specify bins\n",
    "titanic['Pclass'].hist()"
   ]
  },
  {
   "cell_type": "markdown",
   "id": "99e72962-1526-4b20-b7cd-273d8da94035",
   "metadata": {},
   "source": [
    "### Compared to the class, how many died and/or survived on the Titanic?"
   ]
  },
  {
   "cell_type": "code",
   "execution_count": 15,
   "id": "c86bc2cf-b6af-4f83-b0e9-bb06849fa90f",
   "metadata": {},
   "outputs": [],
   "source": [
    "# There is a way to display data based on combinations of variables\n",
    "dead_for_class = titanic.groupby(['Pclass', 'Survived'])"
   ]
  },
  {
   "cell_type": "code",
   "execution_count": 16,
   "id": "9be074bf-0e2b-4d4f-8d6b-0f43416bc0b2",
   "metadata": {},
   "outputs": [
    {
     "data": {
      "text/plain": [
       "Pclass  Survived\n",
       "1       0            80\n",
       "        1           136\n",
       "2       0            97\n",
       "        1            87\n",
       "3       0           372\n",
       "        1           119\n",
       "Name: PassengerId, dtype: int64"
      ]
     },
     "execution_count": 16,
     "metadata": {},
     "output_type": "execute_result"
    }
   ],
   "source": [
    "dead_for_class.count()['PassengerId']"
   ]
  },
  {
   "cell_type": "code",
   "execution_count": 17,
   "id": "034cb711-9f6b-412d-94d8-46105c424912",
   "metadata": {},
   "outputs": [
    {
     "data": {
      "text/plain": [
       "<Axes: >"
      ]
     },
     "execution_count": 17,
     "metadata": {},
     "output_type": "execute_result"
    },
    {
     "data": {
      "image/png": "[encoded data removed]",
      "text/plain": [
       "<Figure size 640x480 with 1 Axes>"
      ]
     },
     "metadata": {},
     "output_type": "display_data"
    }
   ],
   "source": [
    "# How to view? The histogram in this case is incomprehensible\n",
    "dead_for_class.count()['PassengerId'].hist()"
   ]
  },
  {
   "cell_type": "code",
   "execution_count": 18,
   "id": "9a709644-133d-4e89-aadf-479837257c66",
   "metadata": {},
   "outputs": [
    {
     "data": {
      "text/plain": [
       "(array([ 80.,   0.,   0.,   0.,   0.,   0.,   0.,   0.,   0., 136.]),\n",
       " array([0. , 0.1, 0.2, 0.3, 0.4, 0.5, 0.6, 0.7, 0.8, 0.9, 1. ]),\n",
       " <BarContainer object of 10 artists>)"
      ]
     },
     "execution_count": 18,
     "metadata": {},
     "output_type": "execute_result"
    },
    {
     "data": {
      "image/png": "[encoded data removed]",
      "text/plain": [
       "<Figure size 640x480 with 1 Axes>"
      ]
     },
     "metadata": {},
     "output_type": "display_data"
    }
   ],
   "source": [
    "# Using matplotlib, I make a separate histogram for each of the values\n",
    "plt.hist(titanic.loc[titanic['Pclass'] == 1, 'Survived'])\n",
    "# What have I done:\n",
    "# titanic.loc[titanic['Pclass'] == 1, 'Survived']\n",
    "# I select all passengers who have class 1 who survived and insert it into a histogram with matplotlib"
   ]
  },
  {
   "cell_type": "code",
   "execution_count": 50,
   "id": "ca2399f1-0886-4f38-b7a2-c63a6c97329d",
   "metadata": {},
   "outputs": [
    {
     "data": {
      "text/plain": [
       "<matplotlib.legend.Legend at 0x17b6cda2810>"
      ]
     },
     "execution_count": 50,
     "metadata": {},
     "output_type": "execute_result"
    },
    {
     "data": {
      "image/png": "[encoded data removed]",
      "text/plain": [
       "<Figure size 640x480 with 1 Axes>"
      ]
     },
     "metadata": {},
     "output_type": "display_data"
    }
   ],
   "source": [
    "# How to put it all together? Instead of entering the class with a number in the formula every time? With a cycle\n",
    "plt.hist([titanic.loc[titanic['Pclass'] == x, 'Survived'] for x in pc], label = pc)\n",
    "plt.legend()\n",
    "# label = pc is for class-based labeling\n",
    "# plt.legend prints a legend"
   ]
  },
  {
   "cell_type": "markdown",
   "id": "c13255f4-50c1-4543-8eb9-60d0585d7b96",
   "metadata": {},
   "source": [
    "## Alternative ways to answer the previous question"
   ]
  },
  {
   "cell_type": "code",
   "execution_count": 52,
   "id": "a6910a8c-a1b6-4e04-ab1b-3d2b1d7480da",
   "metadata": {},
   "outputs": [
    {
     "data": {
      "text/html": [
       "<div>\n",
       "<style scoped>\n",
       "    .dataframe tbody tr th:only-of-type {\n",
       "        vertical-align: middle;\n",
       "    }\n",
       "\n",
       "    .dataframe tbody tr th {\n",
       "        vertical-align: top;\n",
       "    }\n",
       "\n",
       "    .dataframe thead th {\n",
       "        text-align: right;\n",
       "    }\n",
       "</style>\n",
       "<table border=\"1\" class=\"dataframe\">\n",
       "  <thead>\n",
       "    <tr style=\"text-align: right;\">\n",
       "      <th>Survived</th>\n",
       "      <th>0</th>\n",
       "      <th>1</th>\n",
       "    </tr>\n",
       "    <tr>\n",
       "      <th>Pclass</th>\n",
       "      <th></th>\n",
       "      <th></th>\n",
       "    </tr>\n",
       "  </thead>\n",
       "  <tbody>\n",
       "    <tr>\n",
       "      <th>1</th>\n",
       "      <td>80</td>\n",
       "      <td>136</td>\n",
       "    </tr>\n",
       "    <tr>\n",
       "      <th>2</th>\n",
       "      <td>97</td>\n",
       "      <td>87</td>\n",
       "    </tr>\n",
       "    <tr>\n",
       "      <th>3</th>\n",
       "      <td>372</td>\n",
       "      <td>119</td>\n",
       "    </tr>\n",
       "  </tbody>\n",
       "</table>\n",
       "</div>"
      ],
      "text/plain": [
       "Survived    0    1\n",
       "Pclass            \n",
       "1          80  136\n",
       "2          97   87\n",
       "3         372  119"
      ]
     },
     "execution_count": 52,
     "metadata": {},
     "output_type": "execute_result"
    }
   ],
   "source": [
    "#Without groupby and without filtering by passengerid, with the pandas crosstab method:\n",
    "pd.crosstab(titanic['Pclass'], titanic['Survived'])"
   ]
  },
  {
   "cell_type": "code",
   "execution_count": 19,
   "id": "86b46a36-451b-4623-abba-d4072c465b11",
   "metadata": {},
   "outputs": [
    {
     "data": {
      "text/plain": [
       "Pclass\n",
       "1    216\n",
       "2    184\n",
       "3    491\n",
       "dtype: int64"
      ]
     },
     "execution_count": 19,
     "metadata": {},
     "output_type": "execute_result"
    }
   ],
   "source": [
    "# It also returns a dataframe, so you can do operations on it\n",
    "Surv_class = pd.crosstab(titanic['Pclass'], titanic['Survived'])\n",
    "# Sum with respect to axis 1 with sum, i.e. sum over columns (Would be the total of people in each class)\n",
    "Surv_class.sum(1)"
   ]
  },
  {
   "cell_type": "code",
   "execution_count": 21,
   "id": "5be4ad5a-9b54-4769-93dd-e503e08164b9",
   "metadata": {},
   "outputs": [
    {
     "data": {
      "text/html": [
       "<div>\n",
       "<style scoped>\n",
       "    .dataframe tbody tr th:only-of-type {\n",
       "        vertical-align: middle;\n",
       "    }\n",
       "\n",
       "    .dataframe tbody tr th {\n",
       "        vertical-align: top;\n",
       "    }\n",
       "\n",
       "    .dataframe thead th {\n",
       "        text-align: right;\n",
       "    }\n",
       "</style>\n",
       "<table border=\"1\" class=\"dataframe\">\n",
       "  <thead>\n",
       "    <tr style=\"text-align: right;\">\n",
       "      <th>Survived</th>\n",
       "      <th>0</th>\n",
       "      <th>1</th>\n",
       "    </tr>\n",
       "    <tr>\n",
       "      <th>Pclass</th>\n",
       "      <th></th>\n",
       "      <th></th>\n",
       "    </tr>\n",
       "  </thead>\n",
       "  <tbody>\n",
       "    <tr>\n",
       "      <th>1</th>\n",
       "      <td>0.370370</td>\n",
       "      <td>0.629630</td>\n",
       "    </tr>\n",
       "    <tr>\n",
       "      <th>2</th>\n",
       "      <td>0.527174</td>\n",
       "      <td>0.472826</td>\n",
       "    </tr>\n",
       "    <tr>\n",
       "      <th>3</th>\n",
       "      <td>0.757637</td>\n",
       "      <td>0.242363</td>\n",
       "    </tr>\n",
       "  </tbody>\n",
       "</table>\n",
       "</div>"
      ],
      "text/plain": [
       "Survived         0         1\n",
       "Pclass                      \n",
       "1         0.370370  0.629630\n",
       "2         0.527174  0.472826\n",
       "3         0.757637  0.242363"
      ]
     },
     "execution_count": 21,
     "metadata": {},
     "output_type": "execute_result"
    }
   ],
   "source": [
    "# Percentage of deceased and deceased compared to the class\n",
    "Surv_class_pct = Surv_class.div(Surv_class.sum(1).astype(float), axis = 0)\n",
    "# div is used to divide. The axis is zero because it divides across the lines\n",
    "Surv_class_pct"
   ]
  },
  {
   "cell_type": "code",
   "execution_count": 60,
   "id": "64ffcd53-fb59-4e2e-99bb-df5d2fbf9dd7",
   "metadata": {},
   "outputs": [
    {
     "data": {
      "image/png": "[encoded data removed]",
      "text/plain": [
       "<Figure size 640x480 with 1 Axes>"
      ]
     },
     "metadata": {},
     "output_type": "display_data"
    }
   ],
   "source": [
    "Surv_class_pct.plot(kind = 'bar', title ='Sopravvivenza per classe')\n",
    "plt.show()"
   ]
  },
  {
   "cell_type": "code",
   "execution_count": 61,
   "id": "5510bc5d-c623-4d85-9bef-bd95c02d84c5",
   "metadata": {},
   "outputs": [
    {
     "data": {
      "image/png": "[encoded data removed]",
      "text/plain": [
       "<Figure size 640x480 with 1 Axes>"
      ]
     },
     "metadata": {},
     "output_type": "display_data"
    }
   ],
   "source": [
    "Surv_class_pct.plot(kind = 'bar', title ='Sopravvivenza per classe', stacked = True)\n",
    "plt.show()"
   ]
  },
  {
   "cell_type": "markdown",
   "id": "9ffc7385-4e24-4565-a5cb-c9e30d1db905",
   "metadata": {},
   "source": [
    "### Rename the axes"
   ]
  },
  {
   "cell_type": "code",
   "execution_count": 22,
   "id": "dc6e6199-e4aa-4379-b668-ef8b1176bd42",
   "metadata": {},
   "outputs": [
    {
     "data": {
      "image/png": "[encoded data removed]",
      "text/plain": [
       "<Figure size 640x480 with 1 Axes>"
      ]
     },
     "metadata": {},
     "output_type": "display_data"
    }
   ],
   "source": [
    "Surv_class_pct.plot(kind = 'bar', title ='Surviving for class', stacked = True)\n",
    "plt.xlabel('Class')\n",
    "plt.ylabel('Survival percentage')\n",
    "plt.show()"
   ]
  },
  {
   "cell_type": "markdown",
   "id": "6b45fe85-fc41-44cf-ad8f-570e60592720",
   "metadata": {},
   "source": [
    "## Covariance and Correlation"
   ]
  },
  {
   "cell_type": "markdown",
   "id": "4de004cd",
   "metadata": {},
   "source": [
    "Given a variable $A=\\{a_1,a_2,\\ldots,a_n\\}$ with mean $\\mu_A$\n",
    "\n",
    "$v_A = \\frac{\\sum_{i=1}^{n}{(a_i-\\mu)^2}}{n}$\n",
    "\n",
    "Given a secon variabe $B=\\{b_1,b_2,\\ldots,b_n\\}$ with mean $\\mu_B$\n",
    "\n",
    "$v_B = \\frac{\\sum_{i=1}^{n}{(b_i-\\mu)^2}}{n}$\n",
    "\n",
    "### Covariance\n",
    "\n",
    "$cov(A,B) = \\frac{1}{n}\\sum_{i=1}^{n}(a_i - \\mu_A)(b_i-\\mu_B)$\n",
    "\n",
    "### Correlation\n",
    "\n",
    "$corr(A,B) = cov(A,B)/std(A)std(B)$\n",
    "\n",
    "(Coefficient of Pearson)"
   ]
  },
  {
   "cell_type": "code",
   "execution_count": 10,
   "id": "6dd22322-ff60-4f61-a31b-dda93ef751b8",
   "metadata": {},
   "outputs": [
    {
     "data": {
      "text/plain": [
       "-0.07722109457217764"
      ]
     },
     "execution_count": 10,
     "metadata": {},
     "output_type": "execute_result"
    }
   ],
   "source": [
    "# Pearson correlation (varies from -1 to 1) between survived and age\n",
    "titanic['Survived'].corr(titanic['Age'])"
   ]
  },
  {
   "cell_type": "markdown",
   "id": "d3e2c9f1-f29f-4925-90ac-649d7b6e8055",
   "metadata": {},
   "source": [
    "### How do you interpret the correlation?\n",
    "If the correlation is 1 it means that the two variables are perfectly correlated (as one var increases the other also increases proportionally)\n",
    "\n",
    "If the correlation is 0 it means there is no correlation (they vary independently)\n",
    "\n",
    "If the correlation is -1 it means that there is a perfect negative correlation (inverse correlation, if one var increases the other decreases proportionally)"
   ]
  },
  {
   "cell_type": "code",
   "execution_count": null,
   "id": "43deceb6-0e84-4d3b-b36d-9db63bc0c12b",
   "metadata": {},
   "outputs": [],
   "source": [
    "# In our case, there is no correlation between survival and age"
   ]
  },
  {
   "cell_type": "code",
   "execution_count": 12,
   "id": "af3adddd-b330-4942-aa86-d92201d213a1",
   "metadata": {},
   "outputs": [
    {
     "data": {
      "text/plain": [
       "-0.5512960976817095"
      ]
     },
     "execution_count": 12,
     "metadata": {},
     "output_type": "execute_result"
    }
   ],
   "source": [
    "# Covariance\n",
    "titanic['Survived'].cov(titanic['Age'])"
   ]
  },
  {
   "cell_type": "code",
   "execution_count": 14,
   "id": "87039ba6-33bd-4b06-975c-a319e8044631",
   "metadata": {},
   "outputs": [
    {
     "data": {
      "text/html": [
       "<div>\n",
       "<style scoped>\n",
       "    .dataframe tbody tr th:only-of-type {\n",
       "        vertical-align: middle;\n",
       "    }\n",
       "\n",
       "    .dataframe tbody tr th {\n",
       "        vertical-align: top;\n",
       "    }\n",
       "\n",
       "    .dataframe thead th {\n",
       "        text-align: right;\n",
       "    }\n",
       "</style>\n",
       "<table border=\"1\" class=\"dataframe\">\n",
       "  <thead>\n",
       "    <tr style=\"text-align: right;\">\n",
       "      <th></th>\n",
       "      <th>Survived</th>\n",
       "      <th>Age</th>\n",
       "    </tr>\n",
       "  </thead>\n",
       "  <tbody>\n",
       "    <tr>\n",
       "      <th>Survived</th>\n",
       "      <td>0.236772</td>\n",
       "      <td>-0.551296</td>\n",
       "    </tr>\n",
       "    <tr>\n",
       "      <th>Age</th>\n",
       "      <td>-0.551296</td>\n",
       "      <td>211.019125</td>\n",
       "    </tr>\n",
       "  </tbody>\n",
       "</table>\n",
       "</div>"
      ],
      "text/plain": [
       "          Survived         Age\n",
       "Survived  0.236772   -0.551296\n",
       "Age      -0.551296  211.019125"
      ]
     },
     "execution_count": 14,
     "metadata": {},
     "output_type": "execute_result"
    }
   ],
   "source": [
    "# Other methods\n",
    "titanic[['Survived','Age']].cov()"
   ]
  },
  {
   "cell_type": "code",
   "execution_count": 15,
   "id": "cf212eae-f9c5-4795-9238-12751f856d96",
   "metadata": {},
   "outputs": [
    {
     "data": {
      "text/html": [
       "<div>\n",
       "<style scoped>\n",
       "    .dataframe tbody tr th:only-of-type {\n",
       "        vertical-align: middle;\n",
       "    }\n",
       "\n",
       "    .dataframe tbody tr th {\n",
       "        vertical-align: top;\n",
       "    }\n",
       "\n",
       "    .dataframe thead th {\n",
       "        text-align: right;\n",
       "    }\n",
       "</style>\n",
       "<table border=\"1\" class=\"dataframe\">\n",
       "  <thead>\n",
       "    <tr style=\"text-align: right;\">\n",
       "      <th></th>\n",
       "      <th>Survived</th>\n",
       "      <th>Age</th>\n",
       "    </tr>\n",
       "  </thead>\n",
       "  <tbody>\n",
       "    <tr>\n",
       "      <th>Survived</th>\n",
       "      <td>1.000000</td>\n",
       "      <td>-0.077221</td>\n",
       "    </tr>\n",
       "    <tr>\n",
       "      <th>Age</th>\n",
       "      <td>-0.077221</td>\n",
       "      <td>1.000000</td>\n",
       "    </tr>\n",
       "  </tbody>\n",
       "</table>\n",
       "</div>"
      ],
      "text/plain": [
       "          Survived       Age\n",
       "Survived  1.000000 -0.077221\n",
       "Age      -0.077221  1.000000"
      ]
     },
     "execution_count": 15,
     "metadata": {},
     "output_type": "execute_result"
    }
   ],
   "source": [
    "titanic[['Survived','Age']].corr()"
   ]
  },
  {
   "cell_type": "markdown",
   "id": "9c12b3fe-b62c-4a69-9b02-1351e972e35d",
   "metadata": {},
   "source": [
    "## Translate categorical variables with Pandas (One Hot Encoding)"
   ]
  },
  {
   "cell_type": "markdown",
   "id": "77db17f6-dade-45fe-b60f-11920ac323e2",
   "metadata": {},
   "source": [
    "### Finding the correlation between survivors and sex"
   ]
  },
  {
   "cell_type": "code",
   "execution_count": 17,
   "id": "047675e9-8921-474f-b080-fb71dbc79400",
   "metadata": {},
   "outputs": [
    {
     "data": {
      "text/plain": [
       "array(['male', 'female'], dtype=object)"
      ]
     },
     "execution_count": 17,
     "metadata": {},
     "output_type": "execute_result"
    }
   ],
   "source": [
    "titanic['Sex'].unique() # For example, sex has two types of values: male, female"
   ]
  },
  {
   "cell_type": "code",
   "execution_count": 16,
   "id": "b0a51634-adbf-402a-99a6-454377ac96e4",
   "metadata": {},
   "outputs": [
    {
     "data": {
      "text/html": [
       "<div>\n",
       "<style scoped>\n",
       "    .dataframe tbody tr th:only-of-type {\n",
       "        vertical-align: middle;\n",
       "    }\n",
       "\n",
       "    .dataframe tbody tr th {\n",
       "        vertical-align: top;\n",
       "    }\n",
       "\n",
       "    .dataframe thead th {\n",
       "        text-align: right;\n",
       "    }\n",
       "</style>\n",
       "<table border=\"1\" class=\"dataframe\">\n",
       "  <thead>\n",
       "    <tr style=\"text-align: right;\">\n",
       "      <th></th>\n",
       "      <th>female</th>\n",
       "      <th>male</th>\n",
       "    </tr>\n",
       "  </thead>\n",
       "  <tbody>\n",
       "    <tr>\n",
       "      <th>0</th>\n",
       "      <td>False</td>\n",
       "      <td>True</td>\n",
       "    </tr>\n",
       "    <tr>\n",
       "      <th>1</th>\n",
       "      <td>True</td>\n",
       "      <td>False</td>\n",
       "    </tr>\n",
       "    <tr>\n",
       "      <th>2</th>\n",
       "      <td>True</td>\n",
       "      <td>False</td>\n",
       "    </tr>\n",
       "    <tr>\n",
       "      <th>3</th>\n",
       "      <td>True</td>\n",
       "      <td>False</td>\n",
       "    </tr>\n",
       "    <tr>\n",
       "      <th>4</th>\n",
       "      <td>False</td>\n",
       "      <td>True</td>\n",
       "    </tr>\n",
       "    <tr>\n",
       "      <th>...</th>\n",
       "      <td>...</td>\n",
       "      <td>...</td>\n",
       "    </tr>\n",
       "    <tr>\n",
       "      <th>886</th>\n",
       "      <td>False</td>\n",
       "      <td>True</td>\n",
       "    </tr>\n",
       "    <tr>\n",
       "      <th>887</th>\n",
       "      <td>True</td>\n",
       "      <td>False</td>\n",
       "    </tr>\n",
       "    <tr>\n",
       "      <th>888</th>\n",
       "      <td>True</td>\n",
       "      <td>False</td>\n",
       "    </tr>\n",
       "    <tr>\n",
       "      <th>889</th>\n",
       "      <td>False</td>\n",
       "      <td>True</td>\n",
       "    </tr>\n",
       "    <tr>\n",
       "      <th>890</th>\n",
       "      <td>False</td>\n",
       "      <td>True</td>\n",
       "    </tr>\n",
       "  </tbody>\n",
       "</table>\n",
       "<p>891 rows × 2 columns</p>\n",
       "</div>"
      ],
      "text/plain": [
       "     female   male\n",
       "0     False   True\n",
       "1      True  False\n",
       "2      True  False\n",
       "3      True  False\n",
       "4     False   True\n",
       "..      ...    ...\n",
       "886   False   True\n",
       "887    True  False\n",
       "888    True  False\n",
       "889   False   True\n",
       "890   False   True\n",
       "\n",
       "[891 rows x 2 columns]"
      ]
     },
     "execution_count": 16,
     "metadata": {},
     "output_type": "execute_result"
    }
   ],
   "source": [
    "pd.get_dummies(titanic['Sex']) # One Hot Encoding: Allows you to obtain values instead of a categorical variable"
   ]
  },
  {
   "cell_type": "code",
   "execution_count": 19,
   "id": "ff8ea1f1-7139-4ddc-a9ae-76dc892263fb",
   "metadata": {},
   "outputs": [
    {
     "data": {
      "text/plain": [
       "female    0.543351\n",
       "male     -0.543351\n",
       "dtype: float64"
      ]
     },
     "execution_count": 19,
     "metadata": {},
     "output_type": "execute_result"
    }
   ],
   "source": [
    "# Now I can correlate variables\n",
    "# I use corrwith instead of corr because the two variables are not the same size\n",
    "pd.get_dummies(titanic['Sex']).corrwith(titanic['Survived'])"
   ]
  },
  {
   "cell_type": "markdown",
   "id": "ccc8513c-6552-4021-9743-67c7000f5f1a",
   "metadata": {},
   "source": [
    "## Let's try to put the variables from encoding back into the dataset"
   ]
  },
  {
   "cell_type": "code",
   "execution_count": 27,
   "id": "a78c6394-19d7-44cb-9830-0d9135db7365",
   "metadata": {},
   "outputs": [],
   "source": [
    "titanic[['female', 'male']] = pd.get_dummies(titanic['Sex']) #I assign the values given by get_dummies to female and male"
   ]
  },
  {
   "cell_type": "code",
   "execution_count": 28,
   "id": "1cccfa0a-384a-4550-8ef2-903843eea93d",
   "metadata": {},
   "outputs": [],
   "source": [
    "interest_columns = ['male','female','Age','Survived']"
   ]
  },
  {
   "cell_type": "code",
   "execution_count": 29,
   "id": "918ea1ab-1fcb-484e-aa84-f70c188c47ab",
   "metadata": {},
   "outputs": [],
   "source": [
    "correlation_matrix = titanic[interest_columns].corr() # Correlation matrix for all columns"
   ]
  },
  {
   "cell_type": "markdown",
   "id": "7ab9b6d2-e0c1-4eb4-b0d2-5e6aa87d9105",
   "metadata": {},
   "source": [
    "## Let's visualize the correlation"
   ]
  },
  {
   "cell_type": "code",
   "execution_count": 30,
   "id": "3c4baa83-d1cd-4791-bbc0-9cde93e1fc77",
   "metadata": {},
   "outputs": [
    {
     "data": {
      "text/plain": [
       "<Figure size 1900x1500 with 0 Axes>"
      ]
     },
     "metadata": {},
     "output_type": "display_data"
    },
    {
     "data": {
      "image/png": "[encoded data removed]",
      "text/plain": [
       "<Figure size 480x480 with 2 Axes>"
      ]
     },
     "metadata": {},
     "output_type": "display_data"
    }
   ],
   "source": [
    "plt.figure(figsize=(19,15))\n",
    "plt.matshow(correlation_matrix)\n",
    "plt.title('Correlation Matrix')\n",
    "plt.xlabel('Variables')\n",
    "plt.ylabel('Variables')\n",
    "plt.xticks(range(len(interest_columns)), labels = interest_columns) # From zero up to and including 4, I give the columns of interest as labels\n",
    "plt.yticks(range(len(interest_columns)), labels = interest_columns) # Same for y\n",
    "cb = plt.colorbar() # Added a colorbar linked to the correlation value\n",
    "plt.show()"
   ]
  },
  {
   "cell_type": "code",
   "execution_count": 39,
   "id": "0f40eb70-6b7f-4c22-af9d-95c8760994bd",
   "metadata": {},
   "outputs": [
    {
     "data": {
      "text/plain": [
       "0.09606669176903887"
      ]
     },
     "execution_count": 39,
     "metadata": {},
     "output_type": "execute_result"
    }
   ],
   "source": [
    "# Correlation between age and ticket price\n",
    "titanic['Age'].corr(titanic['Fare'])\n",
    "# Very weak correlation"
   ]
  },
  {
   "cell_type": "code",
   "execution_count": 46,
   "id": "6781fc23-4304-4bd1-8efe-ae66787005ae",
   "metadata": {},
   "outputs": [
    {
     "data": {
      "text/plain": [
       "Text(0, 0.5, 'Fare')"
      ]
     },
     "execution_count": 46,
     "metadata": {},
     "output_type": "execute_result"
    },
    {
     "data": {
      "image/png": "[encoded data removed]",
      "text/plain": [
       "<Figure size 640x480 with 1 Axes>"
      ]
     },
     "metadata": {},
     "output_type": "display_data"
    }
   ],
   "source": [
    "# Scatter Plot\n",
    "plt.scatter(titanic['Age'], titanic['Fare'])\n",
    "plt.title('Scatter Plot Age e Fare')\n",
    "plt.xlabel('Age')\n",
    "plt.ylabel('Fare')\n",
    "# Scatter is very important for displaying correlations between values where there is a wide value range, \n",
    "# typically between numeric values\n",
    "# Note that there is no correlation"
   ]
  },
  {
   "cell_type": "markdown",
   "id": "448023ce-23ec-4bbc-913b-cf1d87a2446a",
   "metadata": {},
   "source": [
    "## Edit data"
   ]
  },
  {
   "cell_type": "code",
   "execution_count": 31,
   "id": "b9553e50-6857-45ac-9a8f-70ab7b941bd7",
   "metadata": {},
   "outputs": [],
   "source": [
    "# Select only people under the age of 18\n",
    "minor_age_condition = titanic['Age']<18"
   ]
  },
  {
   "cell_type": "code",
   "execution_count": 32,
   "id": "b3395558-8e76-4071-b67e-cd952d043209",
   "metadata": {},
   "outputs": [],
   "source": [
    "boys = titanic[minor_age_condition]"
   ]
  },
  {
   "cell_type": "code",
   "execution_count": 33,
   "id": "6e8d45e3-2344-4366-8289-a0efd8741613",
   "metadata": {},
   "outputs": [
    {
     "data": {
      "text/plain": [
       "<Axes: >"
      ]
     },
     "execution_count": 33,
     "metadata": {},
     "output_type": "execute_result"
    },
    {
     "data": {
      "image/png": "[encoded data removed]",
      "text/plain": [
       "<Figure size 640x480 with 1 Axes>"
      ]
     },
     "metadata": {},
     "output_type": "display_data"
    }
   ],
   "source": [
    "boys['Age'].hist()"
   ]
  },
  {
   "cell_type": "code",
   "execution_count": 54,
   "id": "795b245f-5027-4f2d-aef2-524bf0195fb3",
   "metadata": {},
   "outputs": [
    {
     "data": {
      "text/plain": [
       "<Axes: >"
      ]
     },
     "execution_count": 54,
     "metadata": {},
     "output_type": "execute_result"
    },
    {
     "data": {
      "image/png": "[encoded data removed]",
      "text/plain": [
       "<Figure size 640x480 with 1 Axes>"
      ]
     },
     "metadata": {},
     "output_type": "display_data"
    }
   ],
   "source": [
    "# Survival\n",
    "boys['Survived'].hist()"
   ]
  },
  {
   "cell_type": "code",
   "execution_count": 34,
   "id": "a9083744-e728-4bc8-b6d3-3b3a5100b880",
   "metadata": {},
   "outputs": [],
   "source": [
    "Survival = boys['Survived'] == 1\n",
    "Death = boys['Survived'] == 0"
   ]
  },
  {
   "cell_type": "code",
   "execution_count": 35,
   "id": "946fa7d6-8894-48f4-8539-9dbdede72a27",
   "metadata": {},
   "outputs": [],
   "source": [
    "survived_boys = boys[Survival]\n",
    "dead_boys = boys[Death]"
   ]
  },
  {
   "cell_type": "code",
   "execution_count": 36,
   "id": "71c6ee5a-1f6f-4355-8a9f-bc82f07cb7b7",
   "metadata": {},
   "outputs": [
    {
     "data": {
      "text/plain": [
       "<Axes: >"
      ]
     },
     "execution_count": 36,
     "metadata": {},
     "output_type": "execute_result"
    },
    {
     "data": {
      "image/png": "[encoded data removed]",
      "text/plain": [
       "<Figure size 640x480 with 1 Axes>"
      ]
     },
     "metadata": {},
     "output_type": "display_data"
    }
   ],
   "source": [
    "survived_boys['Age'].hist()"
   ]
  },
  {
   "cell_type": "code",
   "execution_count": 37,
   "id": "ea0050af-259b-4444-91e8-a69504ff602a",
   "metadata": {},
   "outputs": [
    {
     "data": {
      "text/plain": [
       "<Axes: >"
      ]
     },
     "execution_count": 37,
     "metadata": {},
     "output_type": "execute_result"
    },
    {
     "data": {
      "image/png": "[encoded data removed]",
      "text/plain": [
       "<Figure size 640x480 with 1 Axes>"
      ]
     },
     "metadata": {},
     "output_type": "display_data"
    }
   ],
   "source": [
    "dead_boys['Age'].hist()"
   ]
  },
  {
   "cell_type": "code",
   "execution_count": 38,
   "id": "e3107249-a906-479c-af32-030fb676b397",
   "metadata": {},
   "outputs": [
    {
     "data": {
      "text/html": [
       "<div>\n",
       "<style scoped>\n",
       "    .dataframe tbody tr th:only-of-type {\n",
       "        vertical-align: middle;\n",
       "    }\n",
       "\n",
       "    .dataframe tbody tr th {\n",
       "        vertical-align: top;\n",
       "    }\n",
       "\n",
       "    .dataframe thead th {\n",
       "        text-align: right;\n",
       "    }\n",
       "</style>\n",
       "<table border=\"1\" class=\"dataframe\">\n",
       "  <thead>\n",
       "    <tr style=\"text-align: right;\">\n",
       "      <th></th>\n",
       "      <th>PassengerId</th>\n",
       "      <th>Survived</th>\n",
       "      <th>Pclass</th>\n",
       "      <th>Name</th>\n",
       "      <th>Sex</th>\n",
       "      <th>Age</th>\n",
       "      <th>SibSp</th>\n",
       "      <th>Parch</th>\n",
       "      <th>Ticket</th>\n",
       "      <th>Fare</th>\n",
       "      <th>Cabin</th>\n",
       "      <th>Embarked</th>\n",
       "      <th>female</th>\n",
       "      <th>male</th>\n",
       "    </tr>\n",
       "  </thead>\n",
       "  <tbody>\n",
       "    <tr>\n",
       "      <th>9</th>\n",
       "      <td>10</td>\n",
       "      <td>1</td>\n",
       "      <td>2</td>\n",
       "      <td>Nasser, Mrs. Nicholas (Adele Achem)</td>\n",
       "      <td>female</td>\n",
       "      <td>14.00</td>\n",
       "      <td>1</td>\n",
       "      <td>0</td>\n",
       "      <td>237736</td>\n",
       "      <td>30.0708</td>\n",
       "      <td>NaN</td>\n",
       "      <td>C</td>\n",
       "      <td>True</td>\n",
       "      <td>False</td>\n",
       "    </tr>\n",
       "    <tr>\n",
       "      <th>10</th>\n",
       "      <td>11</td>\n",
       "      <td>1</td>\n",
       "      <td>3</td>\n",
       "      <td>Sandstrom, Miss. Marguerite Rut</td>\n",
       "      <td>female</td>\n",
       "      <td>4.00</td>\n",
       "      <td>1</td>\n",
       "      <td>1</td>\n",
       "      <td>PP 9549</td>\n",
       "      <td>16.7000</td>\n",
       "      <td>G6</td>\n",
       "      <td>S</td>\n",
       "      <td>True</td>\n",
       "      <td>False</td>\n",
       "    </tr>\n",
       "    <tr>\n",
       "      <th>22</th>\n",
       "      <td>23</td>\n",
       "      <td>1</td>\n",
       "      <td>3</td>\n",
       "      <td>McGowan, Miss. Anna \"Annie\"</td>\n",
       "      <td>female</td>\n",
       "      <td>15.00</td>\n",
       "      <td>0</td>\n",
       "      <td>0</td>\n",
       "      <td>330923</td>\n",
       "      <td>8.0292</td>\n",
       "      <td>NaN</td>\n",
       "      <td>Q</td>\n",
       "      <td>True</td>\n",
       "      <td>False</td>\n",
       "    </tr>\n",
       "    <tr>\n",
       "      <th>39</th>\n",
       "      <td>40</td>\n",
       "      <td>1</td>\n",
       "      <td>3</td>\n",
       "      <td>Nicola-Yarred, Miss. Jamila</td>\n",
       "      <td>female</td>\n",
       "      <td>14.00</td>\n",
       "      <td>1</td>\n",
       "      <td>0</td>\n",
       "      <td>2651</td>\n",
       "      <td>11.2417</td>\n",
       "      <td>NaN</td>\n",
       "      <td>C</td>\n",
       "      <td>True</td>\n",
       "      <td>False</td>\n",
       "    </tr>\n",
       "    <tr>\n",
       "      <th>43</th>\n",
       "      <td>44</td>\n",
       "      <td>1</td>\n",
       "      <td>2</td>\n",
       "      <td>Laroche, Miss. Simonne Marie Anne Andree</td>\n",
       "      <td>female</td>\n",
       "      <td>3.00</td>\n",
       "      <td>1</td>\n",
       "      <td>2</td>\n",
       "      <td>SC/Paris 2123</td>\n",
       "      <td>41.5792</td>\n",
       "      <td>NaN</td>\n",
       "      <td>C</td>\n",
       "      <td>True</td>\n",
       "      <td>False</td>\n",
       "    </tr>\n",
       "    <tr>\n",
       "      <th>...</th>\n",
       "      <td>...</td>\n",
       "      <td>...</td>\n",
       "      <td>...</td>\n",
       "      <td>...</td>\n",
       "      <td>...</td>\n",
       "      <td>...</td>\n",
       "      <td>...</td>\n",
       "      <td>...</td>\n",
       "      <td>...</td>\n",
       "      <td>...</td>\n",
       "      <td>...</td>\n",
       "      <td>...</td>\n",
       "      <td>...</td>\n",
       "      <td>...</td>\n",
       "    </tr>\n",
       "    <tr>\n",
       "      <th>830</th>\n",
       "      <td>831</td>\n",
       "      <td>1</td>\n",
       "      <td>3</td>\n",
       "      <td>Yasbeck, Mrs. Antoni (Selini Alexander)</td>\n",
       "      <td>female</td>\n",
       "      <td>15.00</td>\n",
       "      <td>1</td>\n",
       "      <td>0</td>\n",
       "      <td>2659</td>\n",
       "      <td>14.4542</td>\n",
       "      <td>NaN</td>\n",
       "      <td>C</td>\n",
       "      <td>True</td>\n",
       "      <td>False</td>\n",
       "    </tr>\n",
       "    <tr>\n",
       "      <th>831</th>\n",
       "      <td>832</td>\n",
       "      <td>1</td>\n",
       "      <td>2</td>\n",
       "      <td>Richards, Master. George Sibley</td>\n",
       "      <td>male</td>\n",
       "      <td>0.83</td>\n",
       "      <td>1</td>\n",
       "      <td>1</td>\n",
       "      <td>29106</td>\n",
       "      <td>18.7500</td>\n",
       "      <td>NaN</td>\n",
       "      <td>S</td>\n",
       "      <td>False</td>\n",
       "      <td>True</td>\n",
       "    </tr>\n",
       "    <tr>\n",
       "      <th>853</th>\n",
       "      <td>854</td>\n",
       "      <td>1</td>\n",
       "      <td>1</td>\n",
       "      <td>Lines, Miss. Mary Conover</td>\n",
       "      <td>female</td>\n",
       "      <td>16.00</td>\n",
       "      <td>0</td>\n",
       "      <td>1</td>\n",
       "      <td>PC 17592</td>\n",
       "      <td>39.4000</td>\n",
       "      <td>D28</td>\n",
       "      <td>S</td>\n",
       "      <td>True</td>\n",
       "      <td>False</td>\n",
       "    </tr>\n",
       "    <tr>\n",
       "      <th>869</th>\n",
       "      <td>870</td>\n",
       "      <td>1</td>\n",
       "      <td>3</td>\n",
       "      <td>Johnson, Master. Harold Theodor</td>\n",
       "      <td>male</td>\n",
       "      <td>4.00</td>\n",
       "      <td>1</td>\n",
       "      <td>1</td>\n",
       "      <td>347742</td>\n",
       "      <td>11.1333</td>\n",
       "      <td>NaN</td>\n",
       "      <td>S</td>\n",
       "      <td>False</td>\n",
       "      <td>True</td>\n",
       "    </tr>\n",
       "    <tr>\n",
       "      <th>875</th>\n",
       "      <td>876</td>\n",
       "      <td>1</td>\n",
       "      <td>3</td>\n",
       "      <td>Najib, Miss. Adele Kiamie \"Jane\"</td>\n",
       "      <td>female</td>\n",
       "      <td>15.00</td>\n",
       "      <td>0</td>\n",
       "      <td>0</td>\n",
       "      <td>2667</td>\n",
       "      <td>7.2250</td>\n",
       "      <td>NaN</td>\n",
       "      <td>C</td>\n",
       "      <td>True</td>\n",
       "      <td>False</td>\n",
       "    </tr>\n",
       "  </tbody>\n",
       "</table>\n",
       "<p>61 rows × 14 columns</p>\n",
       "</div>"
      ],
      "text/plain": [
       "     PassengerId  Survived  Pclass                                      Name  \\\n",
       "9             10         1       2       Nasser, Mrs. Nicholas (Adele Achem)   \n",
       "10            11         1       3           Sandstrom, Miss. Marguerite Rut   \n",
       "22            23         1       3               McGowan, Miss. Anna \"Annie\"   \n",
       "39            40         1       3               Nicola-Yarred, Miss. Jamila   \n",
       "43            44         1       2  Laroche, Miss. Simonne Marie Anne Andree   \n",
       "..           ...       ...     ...                                       ...   \n",
       "830          831         1       3   Yasbeck, Mrs. Antoni (Selini Alexander)   \n",
       "831          832         1       2           Richards, Master. George Sibley   \n",
       "853          854         1       1                 Lines, Miss. Mary Conover   \n",
       "869          870         1       3           Johnson, Master. Harold Theodor   \n",
       "875          876         1       3          Najib, Miss. Adele Kiamie \"Jane\"   \n",
       "\n",
       "        Sex    Age  SibSp  Parch         Ticket     Fare Cabin Embarked  \\\n",
       "9    female  14.00      1      0         237736  30.0708   NaN        C   \n",
       "10   female   4.00      1      1        PP 9549  16.7000    G6        S   \n",
       "22   female  15.00      0      0         330923   8.0292   NaN        Q   \n",
       "39   female  14.00      1      0           2651  11.2417   NaN        C   \n",
       "43   female   3.00      1      2  SC/Paris 2123  41.5792   NaN        C   \n",
       "..      ...    ...    ...    ...            ...      ...   ...      ...   \n",
       "830  female  15.00      1      0           2659  14.4542   NaN        C   \n",
       "831    male   0.83      1      1          29106  18.7500   NaN        S   \n",
       "853  female  16.00      0      1       PC 17592  39.4000   D28        S   \n",
       "869    male   4.00      1      1         347742  11.1333   NaN        S   \n",
       "875  female  15.00      0      0           2667   7.2250   NaN        C   \n",
       "\n",
       "     female   male  \n",
       "9      True  False  \n",
       "10     True  False  \n",
       "22     True  False  \n",
       "39     True  False  \n",
       "43     True  False  \n",
       "..      ...    ...  \n",
       "830    True  False  \n",
       "831   False   True  \n",
       "853    True  False  \n",
       "869   False   True  \n",
       "875    True  False  \n",
       "\n",
       "[61 rows x 14 columns]"
      ]
     },
     "execution_count": 38,
     "metadata": {},
     "output_type": "execute_result"
    }
   ],
   "source": [
    "# Otherway\n",
    "titanic[(titanic['Age']<18) & (titanic['Survived'] == 1)]"
   ]
  }
 ],
 "metadata": {
  "kernelspec": {
   "display_name": "env_master",
   "language": "python",
   "name": "python3"
  },
  "language_info": {
   "codemirror_mode": {
    "name": "ipython",
    "version": 3
   },
   "file_extension": ".py",
   "mimetype": "text/x-python",
   "name": "python",
   "nbconvert_exporter": "python",
   "pygments_lexer": "ipython3",
   "version": "3.11.6"
  }
 },
 "nbformat": 4,
 "nbformat_minor": 5
}
